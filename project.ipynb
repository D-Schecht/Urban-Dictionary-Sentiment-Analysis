{
 "cells": [
  {
   "cell_type": "code",
   "execution_count": 1,
   "id": "167964fb-f74e-44fe-a3f2-fcc566ac5a73",
   "metadata": {
    "tags": []
   },
  
    }
   ],
   "source": [
    "import pandas as pd\n",
    "import nltk\n",
    "from nltk.corpus import stopwords\n",
    "from nltk.tokenize import word_tokenize\n",
    "from nltk.sentiment import SentimentIntensityAnalyzer\n",
    "from sklearn.model_selection import train_test_split\n",
    "from sklearn.feature_extraction.text import TfidfVectorizer\n",
    "from sklearn.naive_bayes import MultinomialNB\n",
    "from sklearn.metrics import classification_report"
   ]
  },
  {
   "cell_type": "code",
   "execution_count": null,
   "id": "2b861c05-4de7-4618-a43b-c007315a9441",
   "metadata": {},
   "outputs": [],
   "source": [
    "# Load the dataset\n",
    "df = pd.read_csv('urbandict-word-defs.csv')  # Replace with the actual dataset filename\n",
    "\n",
    "# Initialize NLTK stopwords and SentimentIntensityAnalyzer\n",
    "nltk.download('stopwords')\n",
    "nltk.download('punkt')\n",
    "nltk.download('vader_lexicon')\n",
    "stop_words = set(stopwords.words('english'))\n",
    "sia = SentimentIntensityAnalyzer()"
   ]
  },
  {
   "cell_type": "code",
   "execution_count": null,
   "id": "e227027f-55e8-4511-9101-5a080133e3be",
   "metadata": {},
   "outputs": [],
   "source": [
    "# Define a function for text preprocessing\n",
    "def preprocess_text(text):\n",
    "    # Tokenize the text\n",
    "    words = word_tokenize(text)\n",
    "    \n",
    "    # Convert to lowercase\n",
    "    words = [word.lower() for word in words]\n",
    "    \n",
    "    # Remove punctuation and stopwords\n",
    "    words = [word for word in words if word.isalnum() and word not in stop_words]\n",
    "    \n",
    "    return ' '.join(words)"
   ]
  },
  {
   "cell_type": "code",
   "execution_count": null,
   "id": "36e8aa2d-df9d-420f-b4d2-54a54e125162",
   "metadata": {},
   "outputs": [],
   "source": [
    "# Create a new column for preprocessed definitions\n",
    "df['cleaned_definition'] = df['definition'].apply(preprocess_text)\n",
    "\n",
    "# Calculate sentiment scores using the SentimentIntensityAnalyzer\n",
    "df['sentiment_score'] = df['cleaned_definition'].apply(lambda x: sia.polarity_scores(x)['compound'])\n",
    "\n",
    "# Categorize sentiment based on scores\n",
    "df['sentiment'] = df['sentiment_score'].apply(lambda x: 'positive' if x > 0 else 'negative' if x < 0 else 'neutral')"
   ]
  },
  {
   "cell_type": "code",
   "execution_count": null,
   "id": "aecc8a61-5dec-48a0-9a94-fb1fe57911b5",
   "metadata": {},
   "outputs": [],
   "source": [
    "# Split the dataset for training and testing (you may need more data for better accuracy)\n",
    "X_train, X_test, y_train, y_test = train_test_split(df['cleaned_definition'], df['sentiment'], test_size=0.2, random_state=42)\n",
    "\n",
    "# Vectorize the text data\n",
    "vectorizer = TfidfVectorizer()\n",
    "X_train_vec = vectorizer.fit_transform(X_train)\n",
    "X_test_vec = vectorizer.transform(X_test)\n",
    "\n",
    "# Train a simple classifier (Multinomial Naive Bayes)\n",
    "clf = MultinomialNB()\n",
    "clf.fit(X_train_vec, y_train)\n",
    "\n",
    "# Make predictions on the test data\n",
    "y_pred = clf.predict(X_test_vec)\n",
    "\n",
    "# Evaluate the classifier\n",
    "print(classification_report(y_test, y_pred))"
   ]
  }
 ],
 "metadata": {
  "kernelspec": {
   "display_name": "Python 3 (ipykernel)",
   "language": "python",
   "name": "python3"
  },
  "language_info": {
   "codemirror_mode": {
    "name": "ipython",
    "version": 3
   },
   "file_extension": ".py",
   "mimetype": "text/x-python",
   "name": "python",
   "nbconvert_exporter": "python",
   "pygments_lexer": "ipython3",
   "version": "3.11.4"
  }
 },
 "nbformat": 4,
 "nbformat_minor": 5
}
